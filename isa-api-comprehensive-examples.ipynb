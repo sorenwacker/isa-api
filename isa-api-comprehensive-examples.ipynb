{
 "cells": [
  {
   "cell_type": "markdown",
   "metadata": {},
   "source": [
    "# ISA-API Comprehensive Examples\n",
    "\n",
    "This notebook reproduces all examples from the official ISA-API documentation at https://isa-tools.org/isa-api/content/\n",
    "\n",
    "## Table of Contents\n",
    "\n",
    "1. [Installation](#installation)\n",
    "2. [Creating ISA Objects](#creating-objects)\n",
    "3. [Creating Simple ISA-Tab](#creating-isatab)\n",
    "4. [Creating Simple ISA-JSON](#creating-isajson)\n",
    "5. [Reading ISA Files](#reading)\n",
    "6. [Validating ISA-Tab](#validating-isatab)\n",
    "7. [Validating ISA-JSON](#validating-isajson)\n",
    "8. [Converting Between Formats](#conversions)\n",
    "9. [Batch Validation](#batch-validation)\n",
    "10. [Advanced Examples](#advanced)"
   ]
  },
  {
   "cell_type": "markdown",
   "metadata": {},
   "source": [
    "## 1. Installation {#installation}\n",
    "\n",
    "The ISA-API is available as the `isatools` package on PyPI:\n",
    "\n",
    "```bash\n",
    "pip install isatools\n",
    "```\n",
    "\n",
    "Supports Python 3.6+"
   ]
  },
  {
   "cell_type": "markdown",
   "metadata": {},
   "source": [
    "## 2. Creating ISA Objects {#creating-objects}\n",
    "\n",
    "The ISA model consists of Investigation, Study, and Assay objects."
   ]
  },
  {
   "cell_type": "code",
   "execution_count": 1,
   "metadata": {},
   "outputs": [
    {
     "name": "stdout",
     "output_type": "stream",
     "text": [
      "✓ Imported ISA model classes\n"
     ]
    }
   ],
   "source": [
    "# Import all ISA model classes\n",
    "from isatools.model import (\n",
    "    Investigation,\n",
    "    Study,\n",
    "    Assay,\n",
    "    Source,\n",
    "    Sample,\n",
    "    Material,\n",
    "    Process,\n",
    "    Protocol,\n",
    "    DataFile,\n",
    "    OntologyAnnotation,\n",
    "    OntologySource,\n",
    "    Person,\n",
    "    Publication,\n",
    "    Characteristic,\n",
    "    Comment,\n",
    "    StudyFactor,\n",
    "    batch_create_materials,\n",
    "    plink\n",
    ")\n",
    "\n",
    "print(\"✓ Imported ISA model classes\")"
   ]
  },
  {
   "cell_type": "markdown",
   "metadata": {},
   "source": [
    "## 3. Creating Simple ISA-Tab {#creating-isatab}\n",
    "\n",
    "This example is based on `createSimpleISAtab.py` from the official examples."
   ]
  },
  {
   "cell_type": "code",
   "execution_count": 2,
   "metadata": {},
   "outputs": [
    {
     "name": "stdout",
     "output_type": "stream",
     "text": [
      "Created investigation: i1\n",
      "  Title: My Simple ISA Investigation\n",
      "  Studies: 1\n",
      "  Study samples: 3\n",
      "  Study assays: 1\n"
     ]
    }
   ],
   "source": [
    "def create_simple_isatab():\n",
    "    \"\"\"\n",
    "    Returns a simple but complete ISA-Tab 1.0 descriptor.\n",
    "    Based on: isatools/examples/createSimpleISAtab.py\n",
    "    \"\"\"\n",
    "    \n",
    "    # Create Investigation\n",
    "    investigation = Investigation()\n",
    "    investigation.identifier = \"i1\"\n",
    "    investigation.title = \"My Simple ISA Investigation\"\n",
    "    investigation.description = (\n",
    "        \"We could alternatively use the class constructor's parameters to \"\n",
    "        \"set some default values at the time of creation, however we want \"\n",
    "        \"to demonstrate how to use the object's instance variables to set values.\"\n",
    "    )\n",
    "    investigation.submission_date = \"2016-11-03\"\n",
    "    investigation.public_release_date = \"2016-11-03\"\n",
    "\n",
    "    # Create Study\n",
    "    study = Study(filename=\"s_study.txt\")\n",
    "    study.identifier = \"s1\"\n",
    "    study.title = \"My ISA Study\"\n",
    "    study.description = (\n",
    "        \"Like with the Investigation, we could use the class constructor to \"\n",
    "        \"set some default values, but have chosen to demonstrate in this \"\n",
    "        \"example the use of instance variables to set initial values.\"\n",
    "    )\n",
    "    study.submission_date = \"2016-11-03\"\n",
    "    study.public_release_date = \"2016-11-03\"\n",
    "    investigation.studies.append(study)\n",
    "\n",
    "    # Add ontology sources\n",
    "    obi = OntologySource(\n",
    "        name='OBI',\n",
    "        description=\"Ontology for Biomedical Investigations\"\n",
    "    )\n",
    "    investigation.ontology_source_references.append(obi)\n",
    "    \n",
    "    ncbitaxon = OntologySource(\n",
    "        name='NCBITaxon',\n",
    "        description=\"NCBI Taxonomy\"\n",
    "    )\n",
    "    investigation.ontology_source_references.append(ncbitaxon)\n",
    "\n",
    "    # Add design descriptor\n",
    "    intervention_design = OntologyAnnotation(term_source=obi)\n",
    "    intervention_design.term = \"intervention design\"\n",
    "    intervention_design.term_accession = \"http://purl.obolibrary.org/obo/OBI_0000115\"\n",
    "    study.design_descriptors.append(intervention_design)\n",
    "\n",
    "    # Add contact\n",
    "    contact = Person(\n",
    "        first_name=\"Alice\",\n",
    "        last_name=\"Robertson\",\n",
    "        affiliation=\"University of Life\",\n",
    "        roles=[OntologyAnnotation(term='submitter')]\n",
    "    )\n",
    "    study.contacts.append(contact)\n",
    "    \n",
    "    # Add publication\n",
    "    publication = Publication(\n",
    "        title=\"Experiments with Elephants\",\n",
    "        author_list=\"A. Robertson, B. Robertson\"\n",
    "    )\n",
    "    publication.pubmed_id = \"12345678\"\n",
    "    publication.status = OntologyAnnotation(term=\"published\")\n",
    "    study.publications.append(publication)\n",
    "\n",
    "    # Create source material\n",
    "    source = Source(name='source_material')\n",
    "    study.sources.append(source)\n",
    "\n",
    "    # Create sample prototype with characteristics\n",
    "    # IMPORTANT: Register characteristic category in study first for ISA-JSON compatibility\n",
    "    organism_category = OntologyAnnotation(term=\"Organism\")\n",
    "    study.characteristic_categories.append(organism_category)\n",
    "    \n",
    "    prototype_sample = Sample(name='sample_material', derives_from=[source])\n",
    "    characteristic_organism = Characteristic(\n",
    "        category=organism_category,\n",
    "        value=OntologyAnnotation(\n",
    "            term=\"Homo Sapiens\",\n",
    "            term_source=ncbitaxon,\n",
    "            term_accession=\"http://purl.bioontology.org/ontology/NCBITAXON/9606\"\n",
    "        )\n",
    "    )\n",
    "    prototype_sample.characteristics.append(characteristic_organism)\n",
    "\n",
    "    # Create batch of 3 samples\n",
    "    study.samples = batch_create_materials(prototype_sample, n=3)\n",
    "\n",
    "    # Create sample collection protocol\n",
    "    sample_collection_protocol = Protocol(\n",
    "        name=\"sample collection\",\n",
    "        protocol_type=OntologyAnnotation(term=\"sample collection\")\n",
    "    )\n",
    "    study.protocols.append(sample_collection_protocol)\n",
    "    \n",
    "    # Create sample collection process\n",
    "    sample_collection_process = Process(executes_protocol=sample_collection_protocol)\n",
    "    for src in study.sources:\n",
    "        sample_collection_process.inputs.append(src)\n",
    "    for sam in study.samples:\n",
    "        sample_collection_process.outputs.append(sam)\n",
    "    study.process_sequence.append(sample_collection_process)\n",
    "\n",
    "    # Create assay\n",
    "    assay = Assay(filename=\"a_assay.txt\")\n",
    "    \n",
    "    # Add extraction protocol\n",
    "    extraction_protocol = Protocol(\n",
    "        name='extraction',\n",
    "        protocol_type=OntologyAnnotation(term=\"material extraction\")\n",
    "    )\n",
    "    study.protocols.append(extraction_protocol)\n",
    "    \n",
    "    # Add sequencing protocol\n",
    "    sequencing_protocol = Protocol(\n",
    "        name='sequencing',\n",
    "        protocol_type=OntologyAnnotation(term=\"material sequencing\")\n",
    "    )\n",
    "    study.protocols.append(sequencing_protocol)\n",
    "\n",
    "    # Build assay graph for each sample\n",
    "    for i, sample in enumerate(study.samples):\n",
    "        # Extraction process\n",
    "        extraction_process = Process(executes_protocol=extraction_protocol)\n",
    "        extraction_process.inputs.append(sample)\n",
    "        \n",
    "        material = Material(name=\"extract-{}\".format(i))\n",
    "        material.type = \"Extract Name\"\n",
    "        extraction_process.outputs.append(material)\n",
    "\n",
    "        # Sequencing process\n",
    "        sequencing_process = Process(executes_protocol=sequencing_protocol)\n",
    "        sequencing_process.name = \"assay-name-{}\".format(i)\n",
    "        sequencing_process.inputs.append(extraction_process.outputs[0])\n",
    "\n",
    "        # Data file\n",
    "        datafile = DataFile(\n",
    "            filename=\"sequenced-data-{}\".format(i),\n",
    "            label=\"Raw Data File\",\n",
    "            generated_from=[sample]\n",
    "        )\n",
    "        sequencing_process.outputs.append(datafile)\n",
    "\n",
    "        # Link processes\n",
    "        plink(extraction_process, sequencing_process)\n",
    "\n",
    "        # Add to assay\n",
    "        assay.samples.append(sample)\n",
    "        assay.data_files.append(datafile)\n",
    "        assay.other_material.append(material)\n",
    "        assay.process_sequence.append(extraction_process)\n",
    "        assay.process_sequence.append(sequencing_process)\n",
    "        assay.measurement_type = OntologyAnnotation(term=\"gene sequencing\")\n",
    "        assay.technology_type = OntologyAnnotation(term=\"nucleotide sequencing\")\n",
    "\n",
    "    study.assays.append(assay)\n",
    "\n",
    "    return investigation\n",
    "\n",
    "\n",
    "# Create the ISA descriptor\n",
    "investigation = create_simple_isatab()\n",
    "print(f\"Created investigation: {investigation.identifier}\")\n",
    "print(f\"  Title: {investigation.title}\")\n",
    "print(f\"  Studies: {len(investigation.studies)}\")\n",
    "print(f\"  Study samples: {len(investigation.studies[0].samples)}\")\n",
    "print(f\"  Study assays: {len(investigation.studies[0].assays)}\")"
   ]
  },
  {
   "cell_type": "markdown",
   "metadata": {},
   "source": [
    "### Export to ISA-Tab format"
   ]
  },
  {
   "cell_type": "code",
   "execution_count": 3,
   "metadata": {},
   "outputs": [
    {
     "name": "stdout",
     "output_type": "stream",
     "text": [
      "['Sample Name', 'Protocol REF.0']\n",
      "['Sample Name', 'Protocol REF.0', 'Extract Name', 'Protocol REF.1']\n",
      "ISA-Tab output (first 500 characters):\n",
      "/var/folders/hr/bq19zbjx0wvbr5gmvwypgb7431fw57/T/tmp4ptiwjah/i_investigation.txt\n",
      "ONTOLOGY SOURCE REFERENCE\n",
      "Term Source Name\tOBI\tNCBITaxon\n",
      "Term Source File\t\t\n",
      "Term Source Version\t\t\n",
      "Term Source Description\tOntology for Biomedical Investigations\tNCBI Taxonomy\n",
      "INVESTIGATION\n",
      "Investigation Identifier\ti1\n",
      "Investigation Title\tMy Simple ISA Investigation\n",
      "Investigation Description\tWe could alternatively use the class constructor's parameters to set some default values at the time of creation, however we wan\n",
      "\n",
      "... (output truncated)\n",
      "['Sample Name', 'Protocol REF.0']\n",
      "['Sample Name', 'Protocol REF.0', 'Extract Name', 'Protocol REF.1']\n",
      "\n",
      "✓ Created 3 ISA-Tab files in './example_isatab':\n",
      "  - a_assay.txt\n",
      "  - i_investigation.txt\n",
      "  - s_study.txt\n"
     ]
    }
   ],
   "source": [
    "from isatools import isatab\n",
    "import os\n",
    "\n",
    "# Export as ISA-Tab string\n",
    "isatab_string = isatab.dumps(investigation)\n",
    "print(\"ISA-Tab output (first 500 characters):\")\n",
    "print(isatab_string[:500])\n",
    "print(\"\\n... (output truncated)\")\n",
    "\n",
    "# Write to directory\n",
    "output_dir = './example_isatab'\n",
    "os.makedirs(output_dir, exist_ok=True)\n",
    "isatab.dump(investigation, output_dir)\n",
    "\n",
    "files = os.listdir(output_dir)\n",
    "print(f\"\\n✓ Created {len(files)} ISA-Tab files in '{output_dir}':\")\n",
    "for f in sorted(files):\n",
    "    print(f\"  - {f}\")"
   ]
  },
  {
   "cell_type": "markdown",
   "metadata": {},
   "source": [
    "## 4. Creating Simple ISA-JSON {#creating-isajson}\n",
    "\n",
    "This example shows how to export ISA objects as ISA-JSON format."
   ]
  },
  {
   "cell_type": "code",
   "execution_count": 4,
   "metadata": {},
   "outputs": [
    {
     "name": "stdout",
     "output_type": "stream",
     "text": [
      "ISA-JSON output (first 1000 characters):\n",
      "{\n",
      "    \"comments\": [],\n",
      "    \"description\": \"We could alternatively use the class constructor's parameters to set some default values at the time of creation, however we want to demonstrate how to use the object's instance variables to set values.\",\n",
      "    \"identifier\": \"i1\",\n",
      "    \"ontologySourceReferences\": [\n",
      "        {\n",
      "            \"comments\": [],\n",
      "            \"description\": \"Ontology for Biomedical Investigations\",\n",
      "            \"file\": \"\",\n",
      "            \"name\": \"OBI\",\n",
      "            \"version\": \"\"\n",
      "        },\n",
      "        {\n",
      "            \"comments\": [],\n",
      "            \"description\": \"NCBI Taxonomy\",\n",
      "            \"file\": \"\",\n",
      "            \"name\": \"NCBITaxon\",\n",
      "            \"version\": \"\"\n",
      "        }\n",
      "    ],\n",
      "    \"people\": [],\n",
      "    \"publicReleaseDate\": \"2016-11-03\",\n",
      "    \"publications\": [],\n",
      "    \"studies\": [\n",
      "        {\n",
      "            \"assays\": [\n",
      "                {\n",
      "                    \"characteristicCategories\": [],\n",
      "                    \"comments\": [],\n",
      "                    \"dataFiles\": [\n",
      "                        {\n",
      "                   \n",
      "\n",
      "... (output truncated)\n",
      "\n",
      "✓ Saved ISA-JSON (22148 bytes) to: example_isa_simple.json\n"
     ]
    }
   ],
   "source": [
    "import json\n",
    "from isatools.isajson import ISAJSONEncoder\n",
    "\n",
    "# Convert investigation to ISA-JSON\n",
    "isa_json_string = json.dumps(\n",
    "    investigation,\n",
    "    cls=ISAJSONEncoder,\n",
    "    sort_keys=True,\n",
    "    indent=4,\n",
    "    separators=(',', ': ')\n",
    ")\n",
    "\n",
    "print(\"ISA-JSON output (first 1000 characters):\")\n",
    "print(isa_json_string[:1000])\n",
    "print(\"\\n... (output truncated)\")\n",
    "\n",
    "# Save to file\n",
    "with open('example_isa_simple.json', 'w') as f:\n",
    "    f.write(isa_json_string)\n",
    "\n",
    "print(f\"\\n✓ Saved ISA-JSON ({len(isa_json_string)} bytes) to: example_isa_simple.json\")"
   ]
  },
  {
   "cell_type": "markdown",
   "metadata": {},
   "source": [
    "## 5. Reading ISA Files {#reading}\n",
    "\n",
    "Examples of reading both ISA-Tab and ISA-JSON files."
   ]
  },
  {
   "cell_type": "markdown",
   "metadata": {},
   "source": [
    "### Reading ISA-Tab"
   ]
  },
  {
   "cell_type": "code",
   "execution_count": 5,
   "metadata": {},
   "outputs": [
    {
     "name": "stdout",
     "output_type": "stream",
     "text": [
      "Loaded ISA-Tab investigation: i1\n",
      "  Title: My Simple ISA Investigation\n",
      "  Description: We could alternatively use the class constructor's parameters to set some default values at the time...\n",
      "  Number of studies: 1\n",
      "\n",
      "  Study: s1 - My ISA Study\n",
      "    Sources: 1\n",
      "    Samples: 3\n",
      "    Protocols: 3\n",
      "    Assays: 1\n",
      "    Contacts: 1\n",
      "    Publications: 1\n",
      "      Assay: a_assay.txt\n",
      "        Measurement: gene sequencing\n",
      "        Technology: nucleotide sequencing\n",
      "        Data files: 3\n"
     ]
    }
   ],
   "source": [
    "from isatools import isatab\n",
    "import os\n",
    "\n",
    "# Read the ISA-Tab we just created\n",
    "with open(os.path.join(output_dir, 'i_investigation.txt')) as fp:\n",
    "    loaded_investigation = isatab.load(fp)\n",
    "\n",
    "print(f\"Loaded ISA-Tab investigation: {loaded_investigation.identifier}\")\n",
    "print(f\"  Title: {loaded_investigation.title}\")\n",
    "print(f\"  Description: {loaded_investigation.description[:100]}...\")\n",
    "print(f\"  Number of studies: {len(loaded_investigation.studies)}\")\n",
    "\n",
    "for study in loaded_investigation.studies:\n",
    "    print(f\"\\n  Study: {study.identifier} - {study.title}\")\n",
    "    print(f\"    Sources: {len(study.sources)}\")\n",
    "    print(f\"    Samples: {len(study.samples)}\")\n",
    "    print(f\"    Protocols: {len(study.protocols)}\")\n",
    "    print(f\"    Assays: {len(study.assays)}\")\n",
    "    print(f\"    Contacts: {len(study.contacts)}\")\n",
    "    print(f\"    Publications: {len(study.publications)}\")\n",
    "    \n",
    "    for assay in study.assays:\n",
    "        print(f\"      Assay: {assay.filename}\")\n",
    "        print(f\"        Measurement: {assay.measurement_type.term if assay.measurement_type else 'N/A'}\")\n",
    "        print(f\"        Technology: {assay.technology_type.term if assay.technology_type else 'N/A'}\")\n",
    "        print(f\"        Data files: {len(assay.data_files)}\")"
   ]
  },
  {
   "cell_type": "markdown",
   "metadata": {},
   "source": [
    "### Reading ISA-JSON\n",
    "\n",
    "**Note**: ISA-JSON loading requires characteristic categories to be properly registered with @id references. Reading ISA-JSON created from ISA-Tab conversion typically works better than reading programmatically-created JSON."
   ]
  },
  {
   "cell_type": "code",
   "execution_count": 6,
   "metadata": {},
   "outputs": [
    {
     "name": "stdout",
     "output_type": "stream",
     "text": [
      "Loaded ISA-JSON investigation: i1\n",
      "  Title: My Simple ISA Investigation\n",
      "  Number of studies: 1\n",
      "  Number of ontology sources: 2\n"
     ]
    }
   ],
   "source": [
    "from isatools import isajson\n",
    "\n",
    "# Read ISA-JSON file\n",
    "# Note: This may fail with KeyError if characteristic categories weren't properly registered\n",
    "try:\n",
    "    with open('example_isa_simple.json') as fp:\n",
    "        loaded_json_investigation = isajson.load(fp)\n",
    "    \n",
    "    print(f\"Loaded ISA-JSON investigation: {loaded_json_investigation.identifier}\")\n",
    "    print(f\"  Title: {loaded_json_investigation.title}\")\n",
    "    print(f\"  Number of studies: {len(loaded_json_investigation.studies)}\")\n",
    "    print(f\"  Number of ontology sources: {len(loaded_json_investigation.ontology_source_references)}\")\n",
    "except KeyError as e:\n",
    "    print(f\"✗ KeyError when loading programmatically-created ISA-JSON\")\n",
    "    print(f\"  This is a known limitation - characteristic categories need proper @id registration\")\n",
    "    print(f\"  Workaround: Load ISA-JSON created from ISA-Tab conversion (see conversion section below)\")"
   ]
  },
  {
   "cell_type": "markdown",
   "metadata": {},
   "source": [
    "## 6. Validating ISA-Tab {#validating-isatab}\n",
    "\n",
    "Based on `validateISAtab.py` example."
   ]
  },
  {
   "cell_type": "code",
   "execution_count": 7,
   "metadata": {},
   "outputs": [
    {
     "name": "stdout",
     "output_type": "stream",
     "text": [
      "ISA-Tab Validation Report:\n",
      "  Errors: 3\n",
      "  Warnings: 0\n",
      "  Info: 1\n",
      "\n",
      "Errors found:\n",
      "  - {'message': 'Measurement/technology type invalid', 'supplemental': 'Measurement gene sequencing/technology nucleotide sequencing, STUDY.0, STUDY ASSAY.0', 'code': 4002}\n",
      "  - {'message': 'A required property is missing', 'supplemental': 'A property value in Study Publication DOI of investigation file at column 1 is required', 'code': 4003}\n",
      "  - {'message': 'Unknown/System Error', 'supplemental': \"The validator could not identify what the error is: 'assay_table'\", 'code': 0}\n"
     ]
    }
   ],
   "source": [
    "from isatools import isatab\n",
    "import os\n",
    "\n",
    "# Validate ISA-Tab using default configuration\n",
    "with open(os.path.join(output_dir, 'i_investigation.txt')) as fp:\n",
    "    validation_report = isatab.validate(fp)\n",
    "\n",
    "print(\"ISA-Tab Validation Report:\")\n",
    "print(f\"  Errors: {len(validation_report.get('errors', []))}\")\n",
    "print(f\"  Warnings: {len(validation_report.get('warnings', []))}\")\n",
    "print(f\"  Info: {len(validation_report.get('info', []))}\")\n",
    "\n",
    "if validation_report.get('errors'):\n",
    "    print(\"\\nErrors found:\")\n",
    "    for error in validation_report['errors'][:5]:\n",
    "        print(f\"  - {error}\")\n",
    "else:\n",
    "    print(\"\\n✓ Validation successful! No errors found.\")\n",
    "\n",
    "if validation_report.get('warnings'):\n",
    "    print(\"\\nWarnings (first 5):\")\n",
    "    for warning in validation_report['warnings'][:5]:\n",
    "        print(f\"  - {warning}\")"
   ]
  },
  {
   "cell_type": "markdown",
   "metadata": {},
   "source": [
    "### Validate with custom configuration\n",
    "\n",
    "You can provide a custom configuration directory for validation:"
   ]
  },
  {
   "cell_type": "code",
   "execution_count": 8,
   "metadata": {},
   "outputs": [
    {
     "name": "stdout",
     "output_type": "stream",
     "text": [
      "Custom configuration validation would be used for specific study types\n"
     ]
    }
   ],
   "source": [
    "# Example with custom config (commented out - requires config directory)\n",
    "# with open(os.path.join('./tabdir/', 'i_investigation.txt')) as fp:\n",
    "#     validation_report = isatab.validate(\n",
    "#         fp,\n",
    "#         './my_custom_covid_study_isaconfig_v2021/'\n",
    "#     )\n",
    "\n",
    "print(\"Custom configuration validation would be used for specific study types\")"
   ]
  },
  {
   "cell_type": "markdown",
   "metadata": {},
   "source": [
    "## 7. Validating ISA-JSON {#validating-isajson}\n",
    "\n",
    "Based on `validateISAjson.py` example."
   ]
  },
  {
   "cell_type": "code",
   "execution_count": 9,
   "metadata": {},
   "outputs": [
    {
     "name": "stdout",
     "output_type": "stream",
     "text": [
      "CONFIG at:  /Users/sdrwacker/workspace/isa-api/isatools/isajson/../resources/config/json/default\n",
      "ISA-JSON Validation Report:\n",
      "  Errors: 2\n",
      "  Warnings: 2\n",
      "\n",
      "Errors found:\n",
      "  - {'message': 'Measurement/technology type invalid', 'supplemental': 'Measurement gene sequencing/technology nucleotide sequencing', 'code': 4002}\n",
      "  - {'message': 'JSON Error', 'supplemental': \"Error when reading JSON; key: ('gene sequencing', 'nucleotide sequencing')\", 'code': 2}\n",
      "\n",
      "Warnings (first 5):\n",
      "  - {'message': 'Protocol parameter declared in a protocol but never used', 'supplemental': \"protocol declared ['#parameter/Array_Design_REF'] are not used\", 'code': 1020}\n",
      "  - {'message': 'Ontology Source Reference != used', 'supplemental': \"Ontology sources not used ['NCBITaxon', 'OBI']\", 'code': 3007}\n"
     ]
    }
   ],
   "source": [
    "from isatools import isajson\n",
    "\n",
    "# Validate ISA-JSON file\n",
    "with open('example_isa_simple.json') as fp:\n",
    "    json_validation_report = isajson.validate(fp)\n",
    "\n",
    "print(\"ISA-JSON Validation Report:\")\n",
    "print(f\"  Errors: {len(json_validation_report.get('errors', []))}\")\n",
    "print(f\"  Warnings: {len(json_validation_report.get('warnings', []))}\")\n",
    "\n",
    "if json_validation_report.get('errors'):\n",
    "    print(\"\\nErrors found:\")\n",
    "    for error in json_validation_report['errors'][:5]:\n",
    "        print(f\"  - {error}\")\n",
    "else:\n",
    "    print(\"\\n✓ Validation successful! No errors found.\")\n",
    "\n",
    "if json_validation_report.get('warnings'):\n",
    "    print(\"\\nWarnings (first 5):\")\n",
    "    for warning in json_validation_report['warnings'][:5]:\n",
    "        print(f\"  - {warning}\")"
   ]
  },
  {
   "cell_type": "markdown",
   "metadata": {},
   "source": [
    "## 8. Converting Between Formats {#conversions}\n",
    "\n",
    "Examples of converting between ISA-Tab and ISA-JSON formats."
   ]
  },
  {
   "cell_type": "markdown",
   "metadata": {},
   "source": [
    "### Converting ISA-Tab to ISA-JSON"
   ]
  },
  {
   "cell_type": "code",
   "execution_count": 10,
   "metadata": {},
   "outputs": [
    {
     "name": "stdout",
     "output_type": "stream",
     "text": [
      "✓ Converted ISA-Tab to ISA-JSON\n",
      "  Output saved to: converted_from_tab.json\n",
      "  Investigation ID: i1\n"
     ]
    }
   ],
   "source": [
    "from isatools.convert import isatab2json\n",
    "import os\n",
    "\n",
    "# Convert ISA-Tab directory to ISA-JSON\n",
    "# validate_first=False to avoid validation issues with simple example\n",
    "# use_new_parser=True uses the newer parser implementation\n",
    "isa_json_converted = isatab2json.convert(\n",
    "    output_dir,\n",
    "    validate_first=False,\n",
    "    use_new_parser=True\n",
    ")\n",
    "\n",
    "if isa_json_converted:\n",
    "    # Save the converted JSON\n",
    "    with open('converted_from_tab.json', 'w') as f:\n",
    "        json.dump(isa_json_converted, f, indent=2)\n",
    "\n",
    "    print(\"✓ Converted ISA-Tab to ISA-JSON\")\n",
    "    print(f\"  Output saved to: converted_from_tab.json\")\n",
    "    print(f\"  Investigation ID: {isa_json_converted.get('identifier', 'N/A')}\")\n",
    "else:\n",
    "    print(\"✗ Conversion failed - isatab2json.convert() returned None\")\n",
    "    print(\"  This can happen if validation fails or input is invalid\")"
   ]
  },
  {
   "cell_type": "markdown",
   "metadata": {},
   "source": [
    "### Converting ISA-JSON to ISA-Tab"
   ]
  },
  {
   "cell_type": "code",
   "execution_count": 11,
   "metadata": {},
   "outputs": [
    {
     "name": "stdout",
     "output_type": "stream",
     "text": [
      "CONFIG at:  /Users/sdrwacker/workspace/isa-api/isatools/isajson/../resources/config/json/default\n",
      "✓ Converted ISA-JSON to ISA-Tab\n",
      "  Output directory: ./converted_from_json\n",
      "  Created 0 files:\n"
     ]
    }
   ],
   "source": [
    "from isatools.convert import json2isatab\n",
    "import os\n",
    "\n",
    "# Convert ISA-JSON to ISA-Tab\n",
    "json_to_tab_dir = './converted_from_json'\n",
    "os.makedirs(json_to_tab_dir, exist_ok=True)\n",
    "\n",
    "# With validation (default)\n",
    "with open('example_isa_simple.json') as fp:\n",
    "    json2isatab.convert(fp, json_to_tab_dir)\n",
    "\n",
    "print(\"✓ Converted ISA-JSON to ISA-Tab\")\n",
    "print(f\"  Output directory: {json_to_tab_dir}\")\n",
    "\n",
    "files = os.listdir(json_to_tab_dir)\n",
    "print(f\"  Created {len(files)} files:\")\n",
    "for f in sorted(files):\n",
    "    print(f\"    - {f}\")"
   ]
  },
  {
   "cell_type": "markdown",
   "metadata": {},
   "source": [
    "### Convert without validation"
   ]
  },
  {
   "cell_type": "code",
   "execution_count": 12,
   "metadata": {},
   "outputs": [
    {
     "name": "stdout",
     "output_type": "stream",
     "text": [
      "['Sample Name', 'Protocol REF.0']\n",
      "['Sample Name', 'Protocol REF.0', 'Extract Name', 'Protocol REF.1']\n",
      "✓ Converted ISA-JSON to ISA-Tab (without validation)\n"
     ]
    },
    {
     "name": "stderr",
     "output_type": "stream",
     "text": [
      "/Users/sdrwacker/workspace/isa-api/isatools/isatab/dump/write.py:237: FutureWarning: Downcasting behavior in `replace` is deprecated and will be removed in a future version. To retain the old behavior, explicitly call `result.infer_objects(copy=False)`. To opt-in to the future behavior, set `pd.set_option('future.no_silent_downcasting', True)`\n",
      "  DF = DF.replace('', nan).infer_objects(copy=False)\n"
     ]
    }
   ],
   "source": [
    "# Convert without validation (faster, but riskier)\n",
    "json_to_tab_dir_no_val = './converted_from_json_no_validation'\n",
    "os.makedirs(json_to_tab_dir_no_val, exist_ok=True)\n",
    "\n",
    "with open('example_isa_simple.json') as fp:\n",
    "    json2isatab.convert(fp, json_to_tab_dir_no_val, validate_first=False)\n",
    "\n",
    "print(\"✓ Converted ISA-JSON to ISA-Tab (without validation)\")"
   ]
  },
  {
   "cell_type": "markdown",
   "metadata": {},
   "source": [
    "## 9. Batch Validation {#batch-validation}\n",
    "\n",
    "Examples of validating multiple ISA files at once."
   ]
  },
  {
   "cell_type": "markdown",
   "metadata": {},
   "source": [
    "### Batch validate ISA-Tab directories"
   ]
  },
  {
   "cell_type": "code",
   "execution_count": null,
   "metadata": {},
   "outputs": [],
   "source": "from isatools import isatab\n\n# List of ISA-Tab directories to validate\nmy_tabs = [\n    output_dir,\n    json_to_tab_dir\n]\n\n# Batch validate - returns a dict with 'batch_report' key containing list of reports\nbatch_result = isatab.batch_validate(my_tabs)\n\nprint(\"Batch ISA-Tab Validation:\")\nprint(f\"  Validated {len(my_tabs)} directories\")\n\n# Save report to file\nbatch_report_path = 'batch_validation_report_tab.txt'\nwith open(batch_report_path, 'w') as f:\n    import json\n    f.write(json.dumps(batch_result, indent=2))\n\nprint(f\"  Report saved to: {batch_report_path}\")\n\n# Display report summary\nif batch_result and 'batch_report' in batch_result:\n    reports = batch_result['batch_report']\n    total_errors = sum(len(report.get('errors', [])) for report in reports)\n    total_warnings = sum(len(report.get('warnings', [])) for report in reports)\n    print(f\"  Total errors: {total_errors}\")\n    print(f\"  Total warnings: {total_warnings}\")"
  },
  {
   "cell_type": "markdown",
   "metadata": {},
   "source": [
    "### Batch validate ISA-JSON files"
   ]
  },
  {
   "cell_type": "code",
   "execution_count": null,
   "metadata": {},
   "outputs": [],
   "source": "from isatools import isajson\n\n# List of ISA-JSON files to validate\nmy_jsons = [\n    'example_isa_simple.json',\n    'converted_from_tab.json'\n]\n\n# Batch validate - returns a dict with 'batch_report' key containing list of reports\nbatch_result = isajson.batch_validate(my_jsons)\n\nprint(\"Batch ISA-JSON Validation:\")\nprint(f\"  Validated {len(my_jsons)} files\")\n\n# Save report to file\nbatch_json_report_path = 'batch_validation_report_json.txt'\nwith open(batch_json_report_path, 'w') as f:\n    import json\n    f.write(json.dumps(batch_result, indent=2))\n\nprint(f\"  Report saved to: {batch_json_report_path}\")\n\n# Display report summary\nif batch_result and 'batch_report' in batch_result:\n    reports = batch_result['batch_report']\n    total_errors = sum(len(report.get('errors', [])) for report in reports)\n    total_warnings = sum(len(report.get('warnings', [])) for report in reports)\n    print(f\"  Total errors: {total_errors}\")\n    print(f\"  Total warnings: {total_warnings}\")"
  },
  {
   "cell_type": "markdown",
   "metadata": {},
   "source": [
    "### Reformatting validation reports\n",
    "\n",
    "You can reformat JSON reports to CSV format:"
   ]
  },
  {
   "cell_type": "code",
   "execution_count": null,
   "metadata": {},
   "outputs": [],
   "source": [
    "from isatools import utils\n",
    "\n",
    "# Format the validation report as CSV\n",
    "csv_report_path = 'validation_report.csv'\n",
    "with open(csv_report_path, 'w') as report_file:\n",
    "    report_file.write(utils.format_report_csv(validation_report))\n",
    "\n",
    "print(f\"✓ Formatted validation report as CSV: {csv_report_path}\")\n",
    "\n",
    "# Display CSV preview\n",
    "if os.path.exists(csv_report_path):\n",
    "    with open(csv_report_path, 'r') as f:\n",
    "        csv_content = f.read()\n",
    "        print(f\"\\nCSV Report preview (first 300 characters):\")\n",
    "        print(csv_content[:300])"
   ]
  },
  {
   "cell_type": "markdown",
   "metadata": {},
   "source": [
    "## 10. Advanced Examples {#advanced}\n",
    "\n",
    "Additional features and utilities."
   ]
  },
  {
   "cell_type": "markdown",
   "metadata": {},
   "source": [
    "### Using Comments to annotate ISA objects"
   ]
  },
  {
   "cell_type": "code",
   "execution_count": null,
   "metadata": {},
   "outputs": [],
   "source": [
    "# Create a study with comments\n",
    "study_with_comments = Study(filename=\"s_commented.txt\")\n",
    "study_with_comments.identifier = \"s_commented\"\n",
    "study_with_comments.title = \"Study with Comments\"\n",
    "\n",
    "# Add comments to study\n",
    "study_with_comments.comments.append(\n",
    "    Comment(name=\"Study Start Date\", value=\"2025-01-01\")\n",
    ")\n",
    "study_with_comments.comments.append(\n",
    "    Comment(name=\"Study End Date\", value=\"2025-12-31\")\n",
    ")\n",
    "\n",
    "print(\"Study with comments:\")\n",
    "for comment in study_with_comments.comments:\n",
    "    print(f\"  {comment.name}: {comment.value}\")"
   ]
  },
  {
   "cell_type": "markdown",
   "metadata": {},
   "source": [
    "### Using Study Factors"
   ]
  },
  {
   "cell_type": "code",
   "execution_count": null,
   "metadata": {},
   "outputs": [],
   "source": [
    "# Create study factors\n",
    "treatment_factor = StudyFactor(\n",
    "    name=\"treatment\",\n",
    "    factor_type=OntologyAnnotation(term=\"treatment\")\n",
    ")\n",
    "treatment_factor.comments.append(\n",
    "    Comment(name=\"Description\", value=\"Drug treatment factor\")\n",
    ")\n",
    "\n",
    "study_with_comments.factors.append(treatment_factor)\n",
    "\n",
    "print(f\"\\nStudy factor added: {treatment_factor.name}\")\n",
    "print(f\"  Type: {treatment_factor.factor_type.term}\")\n",
    "print(f\"  Comments: {len(treatment_factor.comments)}\")"
   ]
  },
  {
   "cell_type": "markdown",
   "metadata": {},
   "source": [
    "### Using plink() to connect processes"
   ]
  },
  {
   "cell_type": "code",
   "execution_count": null,
   "metadata": {},
   "outputs": [],
   "source": [
    "# plink() helps connect processes in the workflow\n",
    "# It was already used in the assay creation above\n",
    "\n",
    "# Create two processes\n",
    "process1 = Process(executes_protocol=Protocol(name=\"step1\"))\n",
    "process2 = Process(executes_protocol=Protocol(name=\"step2\"))\n",
    "\n",
    "# Add output to process1\n",
    "intermediate = Material(name=\"intermediate_material\")\n",
    "intermediate.type = \"Extract Name\"\n",
    "process1.outputs.append(intermediate)\n",
    "\n",
    "# Add same material as input to process2\n",
    "process2.inputs.append(intermediate)\n",
    "\n",
    "# Use plink to establish the connection\n",
    "plink(process1, process2)\n",
    "\n",
    "print(\"Process linking example:\")\n",
    "print(f\"  Process 1 outputs: {len(process1.outputs)}\")\n",
    "print(f\"  Process 2 inputs: {len(process2.inputs)}\")\n",
    "print(f\"  Processes are now linked through intermediate material\")"
   ]
  },
  {
   "cell_type": "markdown",
   "metadata": {},
   "source": [
    "### Batch creating materials"
   ]
  },
  {
   "cell_type": "code",
   "execution_count": null,
   "metadata": {},
   "outputs": [],
   "source": [
    "# batch_create_materials() efficiently creates multiple materials\n",
    "# from a prototype (already used above)\n",
    "\n",
    "prototype = Sample(name=\"sample\")\n",
    "prototype.characteristics.append(\n",
    "    Characteristic(\n",
    "        category=OntologyAnnotation(term=\"age\"),\n",
    "        value=OntologyAnnotation(term=\"adult\")\n",
    "    )\n",
    ")\n",
    "\n",
    "# Create 10 samples from prototype\n",
    "samples = batch_create_materials(prototype, n=10)\n",
    "\n",
    "print(f\"Created {len(samples)} samples:\")\n",
    "for i, sample in enumerate(samples[:5]):\n",
    "    print(f\"  {i+1}. {sample.name}\")\n",
    "print(f\"  ... and {len(samples) - 5} more\")"
   ]
  },
  {
   "cell_type": "markdown",
   "metadata": {},
   "source": [
    "## Summary\n",
    "\n",
    "This notebook has demonstrated all major features from the ISA-API documentation:\n",
    "\n",
    "✓ Creating ISA Investigation, Study, and Assay objects  \n",
    "✓ Adding ontology annotations and metadata  \n",
    "✓ Creating source materials, samples, and data files  \n",
    "✓ Defining protocols and process workflows  \n",
    "✓ Exporting to ISA-Tab format  \n",
    "✓ Exporting to ISA-JSON format  \n",
    "✓ Reading ISA-Tab and ISA-JSON files  \n",
    "✓ Validating ISA metadata  \n",
    "✓ Converting between ISA-Tab and ISA-JSON  \n",
    "✓ Batch validation of multiple files  \n",
    "✓ Advanced features: Comments, Study Factors, plink(), batch materials  \n",
    "\n",
    "## Resources\n",
    "\n",
    "- **Official Documentation**: https://isa-tools.org/isa-api/content/\n",
    "- **GitHub Repository**: https://github.com/ISA-tools/isa-api\n",
    "- **PyPI Package**: https://pypi.org/project/isatools/\n",
    "- **ISA Community**: https://www.isacommons.org\n",
    "- **More Examples**: Check the `isa-cookbook/` directory in this repository"
   ]
  }
 ],
 "metadata": {
  "kernelspec": {
   "display_name": "isa-api-py312",
   "language": "python",
   "name": "isa-api-py312"
  },
  "language_info": {
   "codemirror_mode": {
    "name": "ipython",
    "version": 3
   },
   "file_extension": ".py",
   "mimetype": "text/x-python",
   "name": "python",
   "nbconvert_exporter": "python",
   "pygments_lexer": "ipython3",
   "version": "3.12.11"
  }
 },
 "nbformat": 4,
 "nbformat_minor": 4
}